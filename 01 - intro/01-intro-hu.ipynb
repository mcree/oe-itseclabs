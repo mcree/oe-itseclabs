{
 "cells": [
  {
   "cell_type": "markdown",
   "source": [
    "# Informatikai biztonság alapjai\n",
    "## 01 - Bevezető - Jupyter interaktív jegyzetfüzet\n"
   ],
   "metadata": {
    "collapsed": false,
    "pycharm": {
     "name": "#%% md\n"
    }
   }
  },
  {
   "cell_type": "code",
   "execution_count": 15,
   "outputs": [
    {
     "name": "stdout",
     "text": [
      "hello from bash\n"
     ],
     "output_type": "stream"
    },
    {
     "name": "stderr",
     "text": [
      "shell-init: error retrieving current directory: getcwd: cannot access parent directories: No such file or directory\n"
     ],
     "output_type": "stream"
    }
   ],
   "source": [
    "%%bash\n",
    "# ez egy Linux parancssori cella\n",
    "echo \"hello from bash\""
   ],
   "metadata": {
    "collapsed": false,
    "pycharm": {
     "name": "#%%\n",
     "is_executing": false
    }
   }
  },
  {
   "cell_type": "code",
   "execution_count": 16,
   "outputs": [
    {
     "name": "stdout",
     "text": [
      "Hello from python\n"
     ],
     "output_type": "stream"
    }
   ],
   "source": [
    "# ez egy python programnyelven írt cella\n",
    "print(\"Hello from python\")"
   ],
   "metadata": {
    "collapsed": false,
    "pycharm": {
     "name": "#%%\n",
     "is_executing": false
    }
   }
  }
 ],
 "metadata": {
  "kernelspec": {
   "display_name": "Python 3",
   "language": "python",
   "name": "python3"
  },
  "language_info": {
   "codemirror_mode": {
    "name": "ipython",
    "version": 2
   },
   "file_extension": ".py",
   "mimetype": "text/x-python",
   "name": "python",
   "nbconvert_exporter": "python",
   "pygments_lexer": "ipython2",
   "version": "2.7.6"
  },
  "pycharm": {
   "stem_cell": {
    "cell_type": "raw",
    "source": [],
    "metadata": {
     "collapsed": false
    }
   }
  }
 },
 "nbformat": 4,
 "nbformat_minor": 0
}